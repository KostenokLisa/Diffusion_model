{
 "cells": [
  {
   "cell_type": "code",
   "execution_count": 35,
   "id": "1c8699ee",
   "metadata": {
    "scrolled": true
   },
   "outputs": [],
   "source": [
    "import torch\n",
    "import torch.nn as nn\n",
    "from torchvision import transforms\n",
    "from torch.utils.data import DataLoader, TensorDataset\n",
    "from sklearn.model_selection import train_test_split\n",
    "import numpy as np\n",
    "\n",
    "import data_preparing\n",
    "import forward"
   ]
  },
  {
   "cell_type": "code",
   "execution_count": 36,
   "id": "7eae533d",
   "metadata": {},
   "outputs": [],
   "source": [
    "mean1 = [1.0]\n",
    "mean2 = [2.0]\n",
    "var1 = [1.0]\n",
    "var2 = [2.0]\n",
    "p = 0.1\n",
    "M = 100\n",
    "betas = [1.0, 2.0, 3.0, 4.0, 5.0, 6.0, 7.0, 8.0, 9.0, 10.0]"
   ]
  },
  {
   "cell_type": "code",
   "execution_count": 37,
   "id": "daeddf59",
   "metadata": {},
   "outputs": [],
   "source": [
    "transform = transforms.Compose([\n",
    "    transforms.ToTensor(),\n",
    "    #transforms.Normalize(mean, var) ??? \n",
    "])\n",
    "\n",
    "gmm_data = data_preparing.create_dataset(M, mean1, mean2, var1, var2, p)\n",
    "\n",
    "train_data, test_data = train_test_split(gmm_data, test_size=0.25)\n",
    "train_data = transform(train_data)\n",
    "test_data = transform(test_data)"
   ]
  },
  {
   "cell_type": "code",
   "execution_count": 38,
   "id": "71170ef0",
   "metadata": {},
   "outputs": [],
   "source": [
    "batch_size = 25\n",
    "train_loader = DataLoader(train_data, batch_size, shuffle=True)\n",
    "test_loader = DataLoader(test_data, batch_size, shuffle=False)"
   ]
  },
  {
   "cell_type": "code",
   "execution_count": 39,
   "id": "c70ef065",
   "metadata": {},
   "outputs": [],
   "source": [
    "class RevNet(nn.Module):\n",
    "    def __init__(self, N):\n",
    "        super().__init__()\n",
    "        self.common_l1 = nn.Sequential(\n",
    "            nn.Linear(N, N * 2),\n",
    "            nn.ReLU(),\n",
    "            nn.BatchNorm1d(N * 2),\n",
    "        )\n",
    "        self.common_l2 = nn.Sequential(\n",
    "            nn.Linear(N * 2, N * 4),\n",
    "            nn.ReLU(),\n",
    "            nn.BatchNorm1d(N * 4),\n",
    "        )\n",
    "        self.mean = nn.Linear(N * 4, N)\n",
    "        self.log_var = nn.Linear(N * 4, N)\n",
    "        \n",
    "    def forward(self, x):\n",
    "        x = x.view(x.size(0), -1)\n",
    "        x = self.common_l1(x)\n",
    "        x = self.common_l2(x)\n",
    "        return self.mean(x), self.log_var(x)"
   ]
  },
  {
   "cell_type": "code",
   "execution_count": null,
   "id": "9fec301c",
   "metadata": {},
   "outputs": [],
   "source": []
  }
 ],
 "metadata": {
  "kernelspec": {
   "display_name": "Python 3",
   "language": "python",
   "name": "python3"
  },
  "language_info": {
   "codemirror_mode": {
    "name": "ipython",
    "version": 3
   },
   "file_extension": ".py",
   "mimetype": "text/x-python",
   "name": "python",
   "nbconvert_exporter": "python",
   "pygments_lexer": "ipython3",
   "version": "3.8.8"
  }
 },
 "nbformat": 4,
 "nbformat_minor": 5
}
